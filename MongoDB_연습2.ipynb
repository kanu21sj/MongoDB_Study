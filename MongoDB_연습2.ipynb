{
 "cells": [
  {
   "cell_type": "code",
   "execution_count": 1,
   "id": "9aede5f8",
   "metadata": {},
   "outputs": [
    {
     "name": "stdout",
     "output_type": "stream",
     "text": [
      "Requirement already satisfied: pymongo in c:\\users\\cj\\anaconda3\\lib\\site-packages (3.11.4)\n"
     ]
    }
   ],
   "source": [
    "!pip install pymongo"
   ]
  },
  {
   "cell_type": "code",
   "execution_count": 2,
   "id": "5d145e48",
   "metadata": {},
   "outputs": [],
   "source": [
    "import pymongo"
   ]
  },
  {
   "cell_type": "code",
   "execution_count": 3,
   "id": "4d2eb8f5",
   "metadata": {},
   "outputs": [],
   "source": [
    "conn = pymongo.MongoClient()"
   ]
  },
  {
   "cell_type": "code",
   "execution_count": 4,
   "id": "2fd4feec",
   "metadata": {},
   "outputs": [],
   "source": [
    "test = conn.test"
   ]
  },
  {
   "cell_type": "code",
   "execution_count": 7,
   "id": "ff3d9f80",
   "metadata": {},
   "outputs": [
    {
     "name": "stdout",
     "output_type": "stream",
     "text": [
      "Database(MongoClient(host=['localhost:27017'], document_class=dict, tz_aware=False, connect=True), 'test')\n"
     ]
    }
   ],
   "source": [
    "print(test)"
   ]
  },
  {
   "cell_type": "code",
   "execution_count": 8,
   "id": "e0e25097",
   "metadata": {},
   "outputs": [],
   "source": [
    "knowledge = conn.knowledge"
   ]
  },
  {
   "cell_type": "code",
   "execution_count": 13,
   "id": "7c396d0b",
   "metadata": {},
   "outputs": [],
   "source": [
    "product = knowledge.product"
   ]
  },
  {
   "cell_type": "code",
   "execution_count": 14,
   "id": "3cc02457",
   "metadata": {
    "scrolled": true
   },
   "outputs": [
    {
     "data": {
      "text/plain": [
       "Collection(Database(MongoClient(host=['localhost:27017'], document_class=dict, tz_aware=False, connect=True), 'knowledge'), 'product')"
      ]
     },
     "execution_count": 14,
     "metadata": {},
     "output_type": "execute_result"
    }
   ],
   "source": [
    "product"
   ]
  },
  {
   "cell_type": "code",
   "execution_count": 15,
   "id": "bf23952e",
   "metadata": {},
   "outputs": [],
   "source": [
    "post = {\"author\": \"Mike\", \"text\": \"My first blog post!\", \"tags\": [\"mongodb\", \"python\", \"pymongo\"] }"
   ]
  },
  {
   "cell_type": "code",
   "execution_count": 16,
   "id": "0d779ec3",
   "metadata": {},
   "outputs": [
    {
     "data": {
      "text/plain": [
       "<pymongo.results.InsertOneResult at 0x1f8f196ec00>"
      ]
     },
     "execution_count": 16,
     "metadata": {},
     "output_type": "execute_result"
    }
   ],
   "source": [
    "product.insert_one(post)"
   ]
  },
  {
   "cell_type": "code",
   "execution_count": 17,
   "id": "473eae3a",
   "metadata": {},
   "outputs": [
    {
     "data": {
      "text/plain": [
       "<pymongo.results.InsertOneResult at 0x1f8f19e9d80>"
      ]
     },
     "execution_count": 17,
     "metadata": {},
     "output_type": "execute_result"
    }
   ],
   "source": [
    "product.insert_one( { \"company\":\"apple\", \"product_id\":\"iphone12\" } )"
   ]
  },
  {
   "cell_type": "code",
   "execution_count": 21,
   "id": "9521e5b0",
   "metadata": {},
   "outputs": [
    {
     "data": {
      "text/plain": [
       "<pymongo.results.InsertManyResult at 0x1f8f19e9c40>"
      ]
     },
     "execution_count": 21,
     "metadata": {},
     "output_type": "execute_result"
    }
   ],
   "source": [
    "product.insert_many(\n",
    "    [\n",
    "        { \"company\":\"samsung\", \"product_id\":\"galaxy10\" },\n",
    "        { \"company\":\"amazon\", \"product_id\":\"web_service\" }\n",
    "    ]\n",
    ")"
   ]
  },
  {
   "cell_type": "code",
   "execution_count": 22,
   "id": "97896f43",
   "metadata": {},
   "outputs": [
    {
     "data": {
      "text/plain": [
       "4"
      ]
     },
     "execution_count": 22,
     "metadata": {},
     "output_type": "execute_result"
    }
   ],
   "source": [
    "product.count_documents({})"
   ]
  },
  {
   "cell_type": "code",
   "execution_count": 27,
   "id": "52996ea0",
   "metadata": {},
   "outputs": [
    {
     "data": {
      "text/plain": [
       "<pymongo.results.UpdateResult at 0x1f8f1a03300>"
      ]
     },
     "execution_count": 27,
     "metadata": {},
     "output_type": "execute_result"
    }
   ],
   "source": [
    "member.update_one( { \"company\" : \"amazon\" },  # update 하려는 조건\n",
    "    { \"$set\" : \n",
    "        { \"product_id\" : \"Cloud_Service\" }\n",
    "    }\n",
    ")"
   ]
  },
  {
   "cell_type": "code",
   "execution_count": 33,
   "id": "c1f6c8ee",
   "metadata": {},
   "outputs": [],
   "source": [
    "docs = product.find( { \"company\" : \"amazon\" } )"
   ]
  },
  {
   "cell_type": "code",
   "execution_count": 34,
   "id": "5fe47c59",
   "metadata": {},
   "outputs": [
    {
     "data": {
      "text/plain": [
       "<pymongo.cursor.Cursor at 0x1f8f181d910>"
      ]
     },
     "execution_count": 34,
     "metadata": {},
     "output_type": "execute_result"
    }
   ],
   "source": [
    "docs"
   ]
  },
  {
   "cell_type": "code",
   "execution_count": 36,
   "id": "936d7b1f",
   "metadata": {},
   "outputs": [],
   "source": [
    "for doc in docs:\n",
    "    print(doc)"
   ]
  },
  {
   "cell_type": "code",
   "execution_count": 45,
   "id": "5c298452",
   "metadata": {},
   "outputs": [],
   "source": [
    "product.drop()"
   ]
  }
 ],
 "metadata": {
  "kernelspec": {
   "display_name": "Python 3",
   "language": "python",
   "name": "python3"
  },
  "language_info": {
   "codemirror_mode": {
    "name": "ipython",
    "version": 3
   },
   "file_extension": ".py",
   "mimetype": "text/x-python",
   "name": "python",
   "nbconvert_exporter": "python",
   "pygments_lexer": "ipython3",
   "version": "3.8.5"
  }
 },
 "nbformat": 4,
 "nbformat_minor": 5
}
